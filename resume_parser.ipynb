{
  "nbformat": 4,
  "nbformat_minor": 0,
  "metadata": {
    "colab": {
      "name": "resume-parser.ipynb",
      "provenance": [],
      "collapsed_sections": []
    },
    "kernelspec": {
      "name": "python3",
      "display_name": "Python 3"
    },
    "language_info": {
      "name": "python"
    }
  },
  "cells": [
    {
      "cell_type": "code",
      "execution_count": 36,
      "metadata": {
        "id": "ubBBvyQ48rhL",
        "colab": {
          "base_uri": "https://localhost:8080/"
        },
        "outputId": "0f8a9151-80ab-498b-bcc8-bef0ffc95f0f"
      },
      "outputs": [
        {
          "output_type": "stream",
          "name": "stdout",
          "text": [
            "[nltk_data] Downloading package stopwords to /root/nltk_data...\n",
            "[nltk_data]   Package stopwords is already up-to-date!\n",
            "[nltk_data] Downloading package punkt to /root/nltk_data...\n",
            "[nltk_data]   Package punkt is already up-to-date!\n"
          ]
        },
        {
          "output_type": "execute_result",
          "data": {
            "text/plain": [
              "True"
            ]
          },
          "metadata": {},
          "execution_count": 36
        }
      ],
      "source": [
        "import numpy as np\n",
        "import pandas as pd\n",
        "import re\n",
        "import nltk\n",
        "import matplotlib.pyplot as plt\n",
        "import os\n",
        "\n",
        "nltk.download(\"stopwords\")\n",
        "nltk.download('punkt')"
      ]
    },
    {
      "cell_type": "code",
      "source": [
        "from google.colab import drive\n",
        "drive.mount('/content/drive')\n",
        "\n",
        "#Append the directory to your python path using sys\n",
        "import sys\n",
        "import os\n",
        "prefix = '/content/drive/My Drive/'\n",
        "# modify \"customized_path_to_your_homework\" here to where you uploaded your homework\n",
        "customized_path_to_your_homework = 'Colab Notebooks/'\n",
        "sys_path = prefix + customized_path_to_your_homework\n",
        "sys.path.append(sys_path)\n",
        "\n",
        "resume = os.path.join(sys_path, 'Resume.csv')"
      ],
      "metadata": {
        "colab": {
          "base_uri": "https://localhost:8080/"
        },
        "id": "Gpan8OMpxrbO",
        "outputId": "53c5cc65-93cc-4991-f56f-891732a437a1"
      },
      "execution_count": 37,
      "outputs": [
        {
          "output_type": "stream",
          "name": "stdout",
          "text": [
            "Drive already mounted at /content/drive; to attempt to forcibly remount, call drive.mount(\"/content/drive\", force_remount=True).\n"
          ]
        }
      ]
    },
    {
      "cell_type": "code",
      "source": [
        "df = pd.read_csv(resume)\n",
        "del df['ID']\n",
        "del df['Resume_html']\n",
        "df.head()"
      ],
      "metadata": {
        "colab": {
          "base_uri": "https://localhost:8080/",
          "height": 206
        },
        "id": "Mp6jismYyWMP",
        "outputId": "37106ebc-4f6a-4cde-b54a-3ae716a6de7b"
      },
      "execution_count": 38,
      "outputs": [
        {
          "output_type": "execute_result",
          "data": {
            "text/plain": [
              "                                          Resume_str Category\n",
              "0           HR ADMINISTRATOR/MARKETING ASSOCIATE\\...       HR\n",
              "1           HR SPECIALIST, US HR OPERATIONS      ...       HR\n",
              "2           HR DIRECTOR       Summary      Over 2...       HR\n",
              "3           HR SPECIALIST       Summary    Dedica...       HR\n",
              "4           HR MANAGER         Skill Highlights  ...       HR"
            ],
            "text/html": [
              "\n",
              "  <div id=\"df-0e836a64-395f-4dde-b53a-a874c33d3077\">\n",
              "    <div class=\"colab-df-container\">\n",
              "      <div>\n",
              "<style scoped>\n",
              "    .dataframe tbody tr th:only-of-type {\n",
              "        vertical-align: middle;\n",
              "    }\n",
              "\n",
              "    .dataframe tbody tr th {\n",
              "        vertical-align: top;\n",
              "    }\n",
              "\n",
              "    .dataframe thead th {\n",
              "        text-align: right;\n",
              "    }\n",
              "</style>\n",
              "<table border=\"1\" class=\"dataframe\">\n",
              "  <thead>\n",
              "    <tr style=\"text-align: right;\">\n",
              "      <th></th>\n",
              "      <th>Resume_str</th>\n",
              "      <th>Category</th>\n",
              "    </tr>\n",
              "  </thead>\n",
              "  <tbody>\n",
              "    <tr>\n",
              "      <th>0</th>\n",
              "      <td>HR ADMINISTRATOR/MARKETING ASSOCIATE\\...</td>\n",
              "      <td>HR</td>\n",
              "    </tr>\n",
              "    <tr>\n",
              "      <th>1</th>\n",
              "      <td>HR SPECIALIST, US HR OPERATIONS      ...</td>\n",
              "      <td>HR</td>\n",
              "    </tr>\n",
              "    <tr>\n",
              "      <th>2</th>\n",
              "      <td>HR DIRECTOR       Summary      Over 2...</td>\n",
              "      <td>HR</td>\n",
              "    </tr>\n",
              "    <tr>\n",
              "      <th>3</th>\n",
              "      <td>HR SPECIALIST       Summary    Dedica...</td>\n",
              "      <td>HR</td>\n",
              "    </tr>\n",
              "    <tr>\n",
              "      <th>4</th>\n",
              "      <td>HR MANAGER         Skill Highlights  ...</td>\n",
              "      <td>HR</td>\n",
              "    </tr>\n",
              "  </tbody>\n",
              "</table>\n",
              "</div>\n",
              "      <button class=\"colab-df-convert\" onclick=\"convertToInteractive('df-0e836a64-395f-4dde-b53a-a874c33d3077')\"\n",
              "              title=\"Convert this dataframe to an interactive table.\"\n",
              "              style=\"display:none;\">\n",
              "        \n",
              "  <svg xmlns=\"http://www.w3.org/2000/svg\" height=\"24px\"viewBox=\"0 0 24 24\"\n",
              "       width=\"24px\">\n",
              "    <path d=\"M0 0h24v24H0V0z\" fill=\"none\"/>\n",
              "    <path d=\"M18.56 5.44l.94 2.06.94-2.06 2.06-.94-2.06-.94-.94-2.06-.94 2.06-2.06.94zm-11 1L8.5 8.5l.94-2.06 2.06-.94-2.06-.94L8.5 2.5l-.94 2.06-2.06.94zm10 10l.94 2.06.94-2.06 2.06-.94-2.06-.94-.94-2.06-.94 2.06-2.06.94z\"/><path d=\"M17.41 7.96l-1.37-1.37c-.4-.4-.92-.59-1.43-.59-.52 0-1.04.2-1.43.59L10.3 9.45l-7.72 7.72c-.78.78-.78 2.05 0 2.83L4 21.41c.39.39.9.59 1.41.59.51 0 1.02-.2 1.41-.59l7.78-7.78 2.81-2.81c.8-.78.8-2.07 0-2.86zM5.41 20L4 18.59l7.72-7.72 1.47 1.35L5.41 20z\"/>\n",
              "  </svg>\n",
              "      </button>\n",
              "      \n",
              "  <style>\n",
              "    .colab-df-container {\n",
              "      display:flex;\n",
              "      flex-wrap:wrap;\n",
              "      gap: 12px;\n",
              "    }\n",
              "\n",
              "    .colab-df-convert {\n",
              "      background-color: #E8F0FE;\n",
              "      border: none;\n",
              "      border-radius: 50%;\n",
              "      cursor: pointer;\n",
              "      display: none;\n",
              "      fill: #1967D2;\n",
              "      height: 32px;\n",
              "      padding: 0 0 0 0;\n",
              "      width: 32px;\n",
              "    }\n",
              "\n",
              "    .colab-df-convert:hover {\n",
              "      background-color: #E2EBFA;\n",
              "      box-shadow: 0px 1px 2px rgba(60, 64, 67, 0.3), 0px 1px 3px 1px rgba(60, 64, 67, 0.15);\n",
              "      fill: #174EA6;\n",
              "    }\n",
              "\n",
              "    [theme=dark] .colab-df-convert {\n",
              "      background-color: #3B4455;\n",
              "      fill: #D2E3FC;\n",
              "    }\n",
              "\n",
              "    [theme=dark] .colab-df-convert:hover {\n",
              "      background-color: #434B5C;\n",
              "      box-shadow: 0px 1px 3px 1px rgba(0, 0, 0, 0.15);\n",
              "      filter: drop-shadow(0px 1px 2px rgba(0, 0, 0, 0.3));\n",
              "      fill: #FFFFFF;\n",
              "    }\n",
              "  </style>\n",
              "\n",
              "      <script>\n",
              "        const buttonEl =\n",
              "          document.querySelector('#df-0e836a64-395f-4dde-b53a-a874c33d3077 button.colab-df-convert');\n",
              "        buttonEl.style.display =\n",
              "          google.colab.kernel.accessAllowed ? 'block' : 'none';\n",
              "\n",
              "        async function convertToInteractive(key) {\n",
              "          const element = document.querySelector('#df-0e836a64-395f-4dde-b53a-a874c33d3077');\n",
              "          const dataTable =\n",
              "            await google.colab.kernel.invokeFunction('convertToInteractive',\n",
              "                                                     [key], {});\n",
              "          if (!dataTable) return;\n",
              "\n",
              "          const docLinkHtml = 'Like what you see? Visit the ' +\n",
              "            '<a target=\"_blank\" href=https://colab.research.google.com/notebooks/data_table.ipynb>data table notebook</a>'\n",
              "            + ' to learn more about interactive tables.';\n",
              "          element.innerHTML = '';\n",
              "          dataTable['output_type'] = 'display_data';\n",
              "          await google.colab.output.renderOutput(dataTable, element);\n",
              "          const docLink = document.createElement('div');\n",
              "          docLink.innerHTML = docLinkHtml;\n",
              "          element.appendChild(docLink);\n",
              "        }\n",
              "      </script>\n",
              "    </div>\n",
              "  </div>\n",
              "  "
            ]
          },
          "metadata": {},
          "execution_count": 38
        }
      ]
    },
    {
      "cell_type": "markdown",
      "source": [
        "Preprocess function adapted from: Labib, H. (2022, April 17). Resume extraction. Kaggle. Retrieved May 4, 2022, from https://www.kaggle.com/code/hendlabib12/resume-extraction/notebook "
      ],
      "metadata": {
        "id": "NAECsY66KRoK"
      }
    },
    {
      "cell_type": "code",
      "source": [
        "STEMMER = nltk.stem.porter.PorterStemmer()\n",
        "def preprocess(txt):\n",
        "    # convert all characters in the string to lower case\n",
        "    txt = txt.lower()\n",
        "    # remove non-english characters, punctuation and numbers\n",
        "    txt = re.sub('[^a-zA-Z]', ' ', txt)\n",
        "    txt = re.sub('http\\S+\\s*', ' ', txt)  # remove URLs\n",
        "    txt = re.sub('RT|cc', ' ', txt)  # remove RT and cc\n",
        "    txt = re.sub('#\\S+', '', txt)  # remove hashtags\n",
        "    txt = re.sub('@\\S+', '  ', txt)  # remove mentions\n",
        "    txt = re.sub('\\s+', ' ', txt)  # remove extra whitespace\n",
        "    # tokenize word\n",
        "    txt = nltk.tokenize.word_tokenize(txt)\n",
        "    # remove stop words\n",
        "    txt = [STEMMER.stem(w) for w in txt if not w in nltk.corpus.stopwords.words('english')]\n",
        "    # stemming\n",
        "\n",
        "    return ' '.join(txt)"
      ],
      "metadata": {
        "id": "IUAtBUVYzYCd"
      },
      "execution_count": 39,
      "outputs": []
    },
    {
      "cell_type": "code",
      "source": [
        "# preprocessing text\n",
        "df['Resume'] = df['Resume_str'].apply(lambda w: preprocess(w))\n",
        "# drop original text column\n",
        "del df['Resume_str']\n",
        "df"
      ],
      "metadata": {
        "colab": {
          "base_uri": "https://localhost:8080/",
          "height": 424
        },
        "id": "tiYkBHsG01Ef",
        "outputId": "3dedf08b-7f39-42e0-bedb-87ffcde53fab"
      },
      "execution_count": 40,
      "outputs": [
        {
          "output_type": "execute_result",
          "data": {
            "text/plain": [
              "      Category                                             Resume\n",
              "0           HR  hr administr market associ hr administr summar...\n",
              "1           HR  hr specialist us hr oper summari versatil medi...\n",
              "2           HR  hr director summari year experi recruit plu ye...\n",
              "3           HR  hr specialist summari dedic driven dynam year ...\n",
              "4           HR  hr manag skill highlight hr skill hr depart st...\n",
              "...        ...                                                ...\n",
              "2479  AVIATION  rank sgt e non commiss offic charg brigad mail...\n",
              "2480  AVIATION  govern relat commun organiz develop director p...\n",
              "2481  AVIATION  geek squad agent profession profil support spe...\n",
              "2482  AVIATION  program director offic manag summari highli pe...\n",
              "2483  AVIATION  storekeep ii profession summari purpos documen...\n",
              "\n",
              "[2484 rows x 2 columns]"
            ],
            "text/html": [
              "\n",
              "  <div id=\"df-0be7c3e4-38fd-474c-b3de-378e3f54b9c2\">\n",
              "    <div class=\"colab-df-container\">\n",
              "      <div>\n",
              "<style scoped>\n",
              "    .dataframe tbody tr th:only-of-type {\n",
              "        vertical-align: middle;\n",
              "    }\n",
              "\n",
              "    .dataframe tbody tr th {\n",
              "        vertical-align: top;\n",
              "    }\n",
              "\n",
              "    .dataframe thead th {\n",
              "        text-align: right;\n",
              "    }\n",
              "</style>\n",
              "<table border=\"1\" class=\"dataframe\">\n",
              "  <thead>\n",
              "    <tr style=\"text-align: right;\">\n",
              "      <th></th>\n",
              "      <th>Category</th>\n",
              "      <th>Resume</th>\n",
              "    </tr>\n",
              "  </thead>\n",
              "  <tbody>\n",
              "    <tr>\n",
              "      <th>0</th>\n",
              "      <td>HR</td>\n",
              "      <td>hr administr market associ hr administr summar...</td>\n",
              "    </tr>\n",
              "    <tr>\n",
              "      <th>1</th>\n",
              "      <td>HR</td>\n",
              "      <td>hr specialist us hr oper summari versatil medi...</td>\n",
              "    </tr>\n",
              "    <tr>\n",
              "      <th>2</th>\n",
              "      <td>HR</td>\n",
              "      <td>hr director summari year experi recruit plu ye...</td>\n",
              "    </tr>\n",
              "    <tr>\n",
              "      <th>3</th>\n",
              "      <td>HR</td>\n",
              "      <td>hr specialist summari dedic driven dynam year ...</td>\n",
              "    </tr>\n",
              "    <tr>\n",
              "      <th>4</th>\n",
              "      <td>HR</td>\n",
              "      <td>hr manag skill highlight hr skill hr depart st...</td>\n",
              "    </tr>\n",
              "    <tr>\n",
              "      <th>...</th>\n",
              "      <td>...</td>\n",
              "      <td>...</td>\n",
              "    </tr>\n",
              "    <tr>\n",
              "      <th>2479</th>\n",
              "      <td>AVIATION</td>\n",
              "      <td>rank sgt e non commiss offic charg brigad mail...</td>\n",
              "    </tr>\n",
              "    <tr>\n",
              "      <th>2480</th>\n",
              "      <td>AVIATION</td>\n",
              "      <td>govern relat commun organiz develop director p...</td>\n",
              "    </tr>\n",
              "    <tr>\n",
              "      <th>2481</th>\n",
              "      <td>AVIATION</td>\n",
              "      <td>geek squad agent profession profil support spe...</td>\n",
              "    </tr>\n",
              "    <tr>\n",
              "      <th>2482</th>\n",
              "      <td>AVIATION</td>\n",
              "      <td>program director offic manag summari highli pe...</td>\n",
              "    </tr>\n",
              "    <tr>\n",
              "      <th>2483</th>\n",
              "      <td>AVIATION</td>\n",
              "      <td>storekeep ii profession summari purpos documen...</td>\n",
              "    </tr>\n",
              "  </tbody>\n",
              "</table>\n",
              "<p>2484 rows × 2 columns</p>\n",
              "</div>\n",
              "      <button class=\"colab-df-convert\" onclick=\"convertToInteractive('df-0be7c3e4-38fd-474c-b3de-378e3f54b9c2')\"\n",
              "              title=\"Convert this dataframe to an interactive table.\"\n",
              "              style=\"display:none;\">\n",
              "        \n",
              "  <svg xmlns=\"http://www.w3.org/2000/svg\" height=\"24px\"viewBox=\"0 0 24 24\"\n",
              "       width=\"24px\">\n",
              "    <path d=\"M0 0h24v24H0V0z\" fill=\"none\"/>\n",
              "    <path d=\"M18.56 5.44l.94 2.06.94-2.06 2.06-.94-2.06-.94-.94-2.06-.94 2.06-2.06.94zm-11 1L8.5 8.5l.94-2.06 2.06-.94-2.06-.94L8.5 2.5l-.94 2.06-2.06.94zm10 10l.94 2.06.94-2.06 2.06-.94-2.06-.94-.94-2.06-.94 2.06-2.06.94z\"/><path d=\"M17.41 7.96l-1.37-1.37c-.4-.4-.92-.59-1.43-.59-.52 0-1.04.2-1.43.59L10.3 9.45l-7.72 7.72c-.78.78-.78 2.05 0 2.83L4 21.41c.39.39.9.59 1.41.59.51 0 1.02-.2 1.41-.59l7.78-7.78 2.81-2.81c.8-.78.8-2.07 0-2.86zM5.41 20L4 18.59l7.72-7.72 1.47 1.35L5.41 20z\"/>\n",
              "  </svg>\n",
              "      </button>\n",
              "      \n",
              "  <style>\n",
              "    .colab-df-container {\n",
              "      display:flex;\n",
              "      flex-wrap:wrap;\n",
              "      gap: 12px;\n",
              "    }\n",
              "\n",
              "    .colab-df-convert {\n",
              "      background-color: #E8F0FE;\n",
              "      border: none;\n",
              "      border-radius: 50%;\n",
              "      cursor: pointer;\n",
              "      display: none;\n",
              "      fill: #1967D2;\n",
              "      height: 32px;\n",
              "      padding: 0 0 0 0;\n",
              "      width: 32px;\n",
              "    }\n",
              "\n",
              "    .colab-df-convert:hover {\n",
              "      background-color: #E2EBFA;\n",
              "      box-shadow: 0px 1px 2px rgba(60, 64, 67, 0.3), 0px 1px 3px 1px rgba(60, 64, 67, 0.15);\n",
              "      fill: #174EA6;\n",
              "    }\n",
              "\n",
              "    [theme=dark] .colab-df-convert {\n",
              "      background-color: #3B4455;\n",
              "      fill: #D2E3FC;\n",
              "    }\n",
              "\n",
              "    [theme=dark] .colab-df-convert:hover {\n",
              "      background-color: #434B5C;\n",
              "      box-shadow: 0px 1px 3px 1px rgba(0, 0, 0, 0.15);\n",
              "      filter: drop-shadow(0px 1px 2px rgba(0, 0, 0, 0.3));\n",
              "      fill: #FFFFFF;\n",
              "    }\n",
              "  </style>\n",
              "\n",
              "      <script>\n",
              "        const buttonEl =\n",
              "          document.querySelector('#df-0be7c3e4-38fd-474c-b3de-378e3f54b9c2 button.colab-df-convert');\n",
              "        buttonEl.style.display =\n",
              "          google.colab.kernel.accessAllowed ? 'block' : 'none';\n",
              "\n",
              "        async function convertToInteractive(key) {\n",
              "          const element = document.querySelector('#df-0be7c3e4-38fd-474c-b3de-378e3f54b9c2');\n",
              "          const dataTable =\n",
              "            await google.colab.kernel.invokeFunction('convertToInteractive',\n",
              "                                                     [key], {});\n",
              "          if (!dataTable) return;\n",
              "\n",
              "          const docLinkHtml = 'Like what you see? Visit the ' +\n",
              "            '<a target=\"_blank\" href=https://colab.research.google.com/notebooks/data_table.ipynb>data table notebook</a>'\n",
              "            + ' to learn more about interactive tables.';\n",
              "          element.innerHTML = '';\n",
              "          dataTable['output_type'] = 'display_data';\n",
              "          await google.colab.output.renderOutput(dataTable, element);\n",
              "          const docLink = document.createElement('div');\n",
              "          docLink.innerHTML = docLinkHtml;\n",
              "          element.appendChild(docLink);\n",
              "        }\n",
              "      </script>\n",
              "    </div>\n",
              "  </div>\n",
              "  "
            ]
          },
          "metadata": {},
          "execution_count": 40
        }
      ]
    },
    {
      "cell_type": "code",
      "source": [
        "dataset_bal = np.unique(df['Category'], return_counts=True)"
      ],
      "metadata": {
        "id": "Iv6jX2nuM6ws"
      },
      "execution_count": 39,
      "outputs": []
    },
    {
      "cell_type": "code",
      "source": [
        "plt.figure(figsize=(10, 5))\n",
        "plt.bar(dataset_bal[0], dataset_bal[1])\n",
        "plt.xticks(rotation=90, ha='right')\n",
        "plt.show()"
      ],
      "metadata": {
        "colab": {
          "base_uri": "https://localhost:8080/",
          "height": 450
        },
        "id": "Kuos7rB0NNQM",
        "outputId": "84ae055b-8bee-4a7b-83fc-1901d58b452f"
      },
      "execution_count": 46,
      "outputs": [
        {
          "output_type": "display_data",
          "data": {
            "text/plain": [
              "<Figure size 720x360 with 1 Axes>"
            ],
            "image/png": "[encoded data removed]"
          },
          "metadata": {
            "needs_background": "light"
          }
        }
      ]
    },
    {
      "cell_type": "code",
      "source": [
        "df.to_csv(os.path.join(sys_path, 'Resume_preprocess.csv'))"
      ],
      "metadata": {
        "id": "LegvE2Zz3Od9"
      },
      "execution_count": 41,
      "outputs": []
    },
    {
      "cell_type": "markdown",
      "source": [
        "<h1>KNN Neighbour with over-sampling</h1>"
      ],
      "metadata": {
        "id": "XxeJngiAFKuN"
      }
    },
    {
      "cell_type": "code",
      "source": [
        "df = pd.read_csv(os.path.join(sys_path, 'Resume_preprocess.csv'), index_col=0)\n",
        "df.dropna(inplace=True)\n",
        "label_cls = df['Category'].unique()\n",
        "num_cls = len(label_cls)\n",
        "label_cls_dict = dict(zip(label_cls, list(range(num_cls))))\n",
        "df['Category'] = df.Category.apply(lambda x: label_cls_dict[x])"
      ],
      "metadata": {
        "id": "6TH31bHWPsOi"
      },
      "execution_count": 167,
      "outputs": []
    },
    {
      "cell_type": "code",
      "source": [
        "from sklearn.feature_extraction.text import TfidfVectorizer\n",
        "df.dropna(inplace=True)\n",
        "resume_vals = df['Resume'].values\n",
        "categories = df['Category'].values\n",
        "tfvec = TfidfVectorizer(sublinear_tf=True)\n",
        "tfvec.fit(resume_vals)\n",
        "resume_tokens = tfvec.transform(resume_vals)"
      ],
      "metadata": {
        "id": "M6m29nmfKDhL"
      },
      "execution_count": 168,
      "outputs": []
    },
    {
      "cell_type": "code",
      "source": [
        "from imblearn.over_sampling import RandomOverSampler\n",
        "\n",
        "seed = 100\n",
        "sm = RandomOverSampler(sampling_strategy='auto', random_state=seed)\n",
        "resume_tokens, categories = sm.fit_resample(resume_tokens, categories)\n"
      ],
      "metadata": {
        "id": "Xpp5lqVB35AB"
      },
      "execution_count": 169,
      "outputs": []
    },
    {
      "cell_type": "code",
      "source": [
        "from sklearn.neighbors import KNeighborsClassifier\n",
        "from sklearn.model_selection import train_test_split\n",
        "\n",
        "X_train,X_test,y_train,y_test = train_test_split(resume_tokens, categories,random_state=42, test_size=0.2,\n",
        "                                                 shuffle=True, stratify=categories)\n",
        "\n",
        "knn = KNeighborsClassifier(5)\n",
        "knn.fit(X_train, y_train)"
      ],
      "metadata": {
        "colab": {
          "base_uri": "https://localhost:8080/"
        },
        "id": "DHGvN8EsEIub",
        "outputId": "ae0d82f0-f888-457b-94d6-272f64399c39"
      },
      "execution_count": 170,
      "outputs": [
        {
          "output_type": "execute_result",
          "data": {
            "text/plain": [
              "KNeighborsClassifier()"
            ]
          },
          "metadata": {},
          "execution_count": 170
        }
      ]
    },
    {
      "cell_type": "code",
      "source": [
        "from sklearn import metrics\n",
        "\n",
        "y_pred = knn.predict(X_test)\n",
        "precision = metrics.accuracy_score(y_pred, y_test) * 100\n",
        "print(\"Accuracy with K-NN: {0:.2f}%\".format(precision))"
      ],
      "metadata": {
        "colab": {
          "base_uri": "https://localhost:8080/"
        },
        "id": "SNxkHU-0Hioz",
        "outputId": "06a72141-b616-4d4d-fbba-e1b2a5e5c2ef"
      },
      "execution_count": 171,
      "outputs": [
        {
          "output_type": "stream",
          "name": "stdout",
          "text": [
            "Accuracy with K-NN: 53.65%\n"
          ]
        }
      ]
    },
    {
      "cell_type": "markdown",
      "source": [
        "<h1>Deep Learning</h1>\n",
        "Deep learning adapted from: Labib, H. (2022, April 17). Resume extraction. Kaggle. Retrieved May 4, 2022, from https://www.kaggle.com/code/hendlabib12/resume-extraction/notebook "
      ],
      "metadata": {
        "id": "KnZxENr5QgP0"
      }
    },
    {
      "cell_type": "code",
      "source": [
        "df = pd.read_csv(os.path.join(sys_path, 'Resume_preprocess.csv'), index_col=0)\n",
        "df.dropna(inplace=True)\n",
        "\n",
        "features = df['Resume'].values\n",
        "original_labels = df['Category'].values\n",
        "labels = original_labels[:]\n",
        "for i in range(len(df)):\n",
        "    labels[i] = str(labels[i].lower())  # convert to lowercase\n",
        "    labels[i] = labels[i].replace(\"-\", \"\")  # use hyphens to convert multi-token labels into single tokens\n",
        "    \n",
        "from sklearn.utils import shuffle\n",
        "features, labels = shuffle(features, labels)"
      ],
      "metadata": {
        "id": "0uejeWxyQfb5"
      },
      "execution_count": 3,
      "outputs": []
    },
    {
      "cell_type": "code",
      "source": [
        "# Split for train and test\n",
        "train_split = 0.8\n",
        "train_size = int(train_split * len(df))\n",
        "\n",
        "train_features = features[:train_size]\n",
        "train_labels = labels[:train_size]\n",
        "\n",
        "test_features = features[train_size:]\n",
        "test_labels = labels[train_size:]\n",
        "\n",
        "# Print size of each split\n",
        "print(len(train_labels))\n",
        "print(len(test_labels))"
      ],
      "metadata": {
        "colab": {
          "base_uri": "https://localhost:8080/"
        },
        "id": "KJWhJ19JRehv",
        "outputId": "f7dd9990-23b2-4a47-b881-325faebc3ebc"
      },
      "execution_count": 153,
      "outputs": [
        {
          "output_type": "stream",
          "name": "stdout",
          "text": [
            "1986\n",
            "497\n"
          ]
        }
      ]
    },
    {
      "cell_type": "code",
      "source": [
        "import tensorflow as tf\n",
        "from tensorflow.keras.preprocessing.sequence import pad_sequences\n",
        "from tensorflow.keras.preprocessing.text import Tokenizer\n",
        "\n",
        "# Tokenize feature data\n",
        "vocab_size = 6000\n",
        "oov_tok = '<>'\n",
        "\n",
        "feature_tokenizer = Tokenizer(num_words=vocab_size, oov_token=oov_tok)\n",
        "feature_tokenizer.fit_on_texts(features)\n",
        "\n",
        "feature_index = feature_tokenizer.word_index\n",
        "features = feature_tokenizer.texts_to_sequences(features)\n",
        "\n",
        "# train_feature_sequences = feature_tokenizer.texts_to_sequences(train_features)\n",
        "\n",
        "# test_feature_sequences = feature_tokenizer.texts_to_sequences(test_features)"
      ],
      "metadata": {
        "id": "lpnUcmNJRh4-"
      },
      "execution_count": 5,
      "outputs": []
    },
    {
      "cell_type": "code",
      "source": [
        "# Tokenize label data \n",
        "label_tokenizer = Tokenizer(lower=True)\n",
        "label_tokenizer.fit_on_texts(labels)\n",
        "\n",
        "labels = label_tokenizer.texts_to_sequences(labels)"
      ],
      "metadata": {
        "id": "UXIiwQbIR2TU"
      },
      "execution_count": 8,
      "outputs": []
    },
    {
      "cell_type": "code",
      "source": [
        "# Split for train and test\n",
        "train_split = 0.8\n",
        "train_size = int(train_split * len(df))\n",
        "\n",
        "train_features = features[:train_size]\n",
        "train_labels = labels[:train_size]\n",
        "\n",
        "test_features = features[train_size:]\n",
        "test_labels = labels[train_size:]"
      ],
      "metadata": {
        "id": "Y7nS3cFL61dS"
      },
      "execution_count": 11,
      "outputs": []
    },
    {
      "cell_type": "code",
      "source": [
        "# Pad sequences for feature data\n",
        "max_length = 625\n",
        "trunc_type = 'post'\n",
        "pad_type = 'post'\n",
        "\n",
        "train_feature_padded = pad_sequences(train_features, maxlen=max_length, padding=pad_type, truncating=trunc_type)\n",
        "test_feature_padded = pad_sequences(test_features, maxlen=max_length, padding=pad_type, truncating=trunc_type)"
      ],
      "metadata": {
        "id": "c-Yy0vI0R6VG"
      },
      "execution_count": 12,
      "outputs": []
    },
    {
      "cell_type": "code",
      "source": [
        "from keras.layers import Conv2D, MaxPooling2D\n",
        "from keras.layers import Dropout, Activation, Flatten\n",
        "embedding_dim = 64\n",
        "\n",
        "model = tf.keras.Sequential([\n",
        "  # Add an Embedding layer expecting input vocab of size 6000, and output embedding dimension of size 64 we set at the top\n",
        "  tf.keras.layers.Embedding(vocab_size, embedding_dim, input_length=625),\n",
        "  tf.keras.layers.Bidirectional(tf.keras.layers.LSTM(embedding_dim)),\n",
        "  # use ReLU in place of tanh function since they are very good alternatives of each other.\n",
        "  tf.keras.layers.Dense(embedding_dim, activation='relu'),\n",
        "  tf.keras.layers.Dropout(0.5),\n",
        "  tf.keras.layers.Dense(embedding_dim, activation='relu'),\n",
        "  tf.keras.layers.Dropout(0.5),\n",
        "\n",
        "  # Add a Dense layer with 25 units and softmax activation for probability distribution\n",
        "  tf.keras.layers.Dense(25, activation='softmax')\n",
        "])\n",
        "\n",
        "model.summary()"
      ],
      "metadata": {
        "colab": {
          "base_uri": "https://localhost:8080/"
        },
        "id": "zKQFKcCWR9a5",
        "outputId": "949fc19b-003e-41d6-844d-2158d538474a"
      },
      "execution_count": 30,
      "outputs": [
        {
          "output_type": "stream",
          "name": "stdout",
          "text": [
            "Model: \"sequential_6\"\n",
            "_________________________________________________________________\n",
            " Layer (type)                Output Shape              Param #   \n",
            "=================================================================\n",
            " embedding_6 (Embedding)     (None, 625, 64)           384000    \n",
            "                                                                 \n",
            " bidirectional_6 (Bidirectio  (None, 128)              66048     \n",
            " nal)                                                            \n",
            "                                                                 \n",
            " dense_14 (Dense)            (None, 64)                8256      \n",
            "                                                                 \n",
            " dropout_8 (Dropout)         (None, 64)                0         \n",
            "                                                                 \n",
            " dense_15 (Dense)            (None, 64)                4160      \n",
            "                                                                 \n",
            " dropout_9 (Dropout)         (None, 64)                0         \n",
            "                                                                 \n",
            " dense_16 (Dense)            (None, 25)                1625      \n",
            "                                                                 \n",
            "=================================================================\n",
            "Total params: 464,089\n",
            "Trainable params: 464,089\n",
            "Non-trainable params: 0\n",
            "_________________________________________________________________\n"
          ]
        }
      ]
    },
    {
      "cell_type": "code",
      "source": [
        "import numpy as np\n",
        "# Compile the model and convert train/test data into NumPy arrays\n",
        "# model.compile(loss='sparse_categorical_crossentropy', optimizer='adam', metrics=['accuracy'])\n",
        "\n",
        "# Features\n",
        "train_feature_padded = np.array(train_feature_padded)\n",
        "# train_feature_padded = train_feature_padded.reshape(-1, 25, 25, 1)\n",
        "test_feature_padded = np.array(test_feature_padded) \n",
        "# test_feature_padded = test_feature_padded.reshape(-1, 25, 25, 1)\n",
        "# Labels\n",
        "train_labels = np.array(train_labels)\n",
        "test_labels = np.array(test_labels)"
      ],
      "metadata": {
        "id": "wF-BSJvbSDsj"
      },
      "execution_count": 14,
      "outputs": []
    },
    {
      "cell_type": "code",
      "source": [
        "model.compile(loss='sparse_categorical_crossentropy', optimizer='adam', metrics=['accuracy'])"
      ],
      "metadata": {
        "id": "SN7g5Cie7xET"
      },
      "execution_count": 31,
      "outputs": []
    },
    {
      "cell_type": "code",
      "source": [
        "num_epochs = 12\n",
        "\n",
        "history = model.fit(train_feature_padded, train_labels, epochs=num_epochs, \n",
        "                    validation_data=(test_feature_padded, test_labels), verbose=2)"
      ],
      "metadata": {
        "colab": {
          "base_uri": "https://localhost:8080/"
        },
        "id": "6hGEhFhESHOp",
        "outputId": "eeaa4004-cbff-41de-9eb4-0fbba2589566"
      },
      "execution_count": 32,
      "outputs": [
        {
          "output_type": "stream",
          "name": "stdout",
          "text": [
            "Epoch 1/12\n",
            "63/63 - 99s - loss: 3.1997 - accuracy: 0.0564 - val_loss: 3.1606 - val_accuracy: 0.1247 - 99s/epoch - 2s/step\n",
            "Epoch 2/12\n",
            "63/63 - 43s - loss: 3.0885 - accuracy: 0.0947 - val_loss: 2.9350 - val_accuracy: 0.1791 - 43s/epoch - 681ms/step\n",
            "Epoch 3/12\n",
            "63/63 - 43s - loss: 2.7401 - accuracy: 0.1767 - val_loss: 2.3748 - val_accuracy: 0.3159 - 43s/epoch - 675ms/step\n",
            "Epoch 4/12\n",
            "63/63 - 42s - loss: 2.3014 - accuracy: 0.3051 - val_loss: 1.9190 - val_accuracy: 0.5171 - 42s/epoch - 671ms/step\n",
            "Epoch 5/12\n",
            "63/63 - 44s - loss: 1.9822 - accuracy: 0.4220 - val_loss: 1.5483 - val_accuracy: 0.6016 - 44s/epoch - 692ms/step\n",
            "Epoch 6/12\n",
            "63/63 - 41s - loss: 1.6622 - accuracy: 0.5091 - val_loss: 1.3856 - val_accuracy: 0.6378 - 41s/epoch - 654ms/step\n",
            "Epoch 7/12\n",
            "63/63 - 41s - loss: 1.4782 - accuracy: 0.5619 - val_loss: 1.2844 - val_accuracy: 0.6539 - 41s/epoch - 656ms/step\n",
            "Epoch 8/12\n",
            "63/63 - 51s - loss: 1.3223 - accuracy: 0.6012 - val_loss: 1.2567 - val_accuracy: 0.6539 - 51s/epoch - 814ms/step\n",
            "Epoch 9/12\n",
            "63/63 - 53s - loss: 1.2090 - accuracy: 0.6309 - val_loss: 1.2024 - val_accuracy: 0.6962 - 53s/epoch - 845ms/step\n",
            "Epoch 10/12\n",
            "63/63 - 41s - loss: 1.0897 - accuracy: 0.6732 - val_loss: 1.1607 - val_accuracy: 0.7042 - 41s/epoch - 656ms/step\n",
            "Epoch 11/12\n",
            "63/63 - 42s - loss: 0.9730 - accuracy: 0.7080 - val_loss: 1.1819 - val_accuracy: 0.7062 - 42s/epoch - 671ms/step\n",
            "Epoch 12/12\n",
            "63/63 - 41s - loss: 0.8885 - accuracy: 0.7170 - val_loss: 1.2115 - val_accuracy: 0.7022 - 41s/epoch - 657ms/step\n"
          ]
        }
      ]
    },
    {
      "cell_type": "code",
      "source": [
        "plt.plot(history.history['accuracy'], 'x-', label = 'DNN Accuracy')\n",
        "plt.title('training accuracy')\n",
        "plt.ylabel('training accuracy')\n",
        "plt.xlabel('epoch')\n",
        "plt.legend(loc='best')\n",
        "plt.show()\n",
        "plt.plot(history.history['val_accuracy'], 'x-', label = 'DNN Val Accuracy')\n",
        "plt.title('training accuracy')\n",
        "plt.ylabel('training accuracy')\n",
        "plt.xlabel('epoch')\n",
        "plt.legend(loc='best')\n",
        "plt.show()"
      ],
      "metadata": {
        "colab": {
          "base_uri": "https://localhost:8080/",
          "height": 573
        },
        "id": "MZjMXa9OA21H",
        "outputId": "04389185-ec86-4a97-c301-11d37c8d941a"
      },
      "execution_count": 35,
      "outputs": [
        {
          "output_type": "display_data",
          "data": {
            "text/plain": [
              "<Figure size 432x288 with 1 Axes>"
            ],
            "image/png": "[encoded data removed]"
          },
          "metadata": {
            "needs_background": "light"
          }
        },
        {
          "output_type": "display_data",
          "data": {
            "text/plain": [
              "<Figure size 432x288 with 1 Axes>"
            ],
            "image/png": "[encoded data removed]"
          },
          "metadata": {
            "needs_background": "light"
          }
        }
      ]
    }
  ]
}